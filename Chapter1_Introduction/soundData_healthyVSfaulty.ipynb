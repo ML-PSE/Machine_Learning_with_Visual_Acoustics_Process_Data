{
 "cells": [
  {
   "cell_type": "markdown",
   "metadata": {},
   "source": [
    "# Chapter: Introduction to Process Monitoring via Computer Vision and Abnormal Sound Detection\n",
    "\n",
    "\n",
    "# Topic: Air compressor sound: healthy vs faulty"
   ]
  },
  {
   "cell_type": "code",
   "execution_count": 2,
   "metadata": {},
   "outputs": [],
   "source": [
    "import numpy as np\n",
    "import sounddevice as sd\n",
    "\n",
    "# clipPath = \"AirCompressor_Data/Healthy/preprocess_Reading1.dat\"\n",
    "clipPath = \"AirCompressor_Data/Bearing/preprocess_Reading1.dat\"\n",
    "\n",
    "data = np.loadtxt(clipPath, delimiter=',')\n",
    "fs = 50000/3 # 50000 samples per 3 seconds\n",
    "sd.play(data, fs)"
   ]
  }
 ],
 "metadata": {
  "kernelspec": {
   "display_name": "Python 3 (ipykernel)",
   "language": "python",
   "name": "python3"
  },
  "language_info": {
   "codemirror_mode": {
    "name": "ipython",
    "version": 3
   },
   "file_extension": ".py",
   "mimetype": "text/x-python",
   "name": "python",
   "nbconvert_exporter": "python",
   "pygments_lexer": "ipython3",
   "version": "3.9.7"
  }
 },
 "nbformat": 4,
 "nbformat_minor": 2
}
