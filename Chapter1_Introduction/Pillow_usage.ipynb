{
 "cells": [
  {
   "cell_type": "markdown",
   "metadata": {},
   "source": [
    "# Chapter: Introduction to Process Monitoring via Computer Vision and Abnormal Sound Detection\n",
    "\n",
    "\n",
    "# Topic: Working with images in Python"
   ]
  },
  {
   "cell_type": "code",
   "execution_count": 1,
   "metadata": {},
   "outputs": [
    {
     "name": "stdout",
     "output_type": "stream",
     "text": [
      "(28, 28)\n"
     ]
    }
   ],
   "source": [
    "# load image using Pillow\n",
    "from PIL import Image\n",
    "img = Image.open('digit_color.jpeg')\n",
    "img.show() # displays image using your computer's default application for photos\n",
    "print(img.size)"
   ]
  },
  {
   "cell_type": "code",
   "execution_count": 2,
   "metadata": {},
   "outputs": [
    {
     "name": "stdout",
     "output_type": "stream",
     "text": [
      "(28, 28, 3)\n"
     ]
    }
   ],
   "source": [
    "# construct NumpPy array from image object\n",
    "import numpy as np\n",
    "imgData = np.asarray(img) \n",
    "print(imgData.shape)"
   ]
  },
  {
   "cell_type": "code",
   "execution_count": 3,
   "metadata": {},
   "outputs": [],
   "source": [
    "# resize image\n",
    "img_resized = img.resize((7,7))\n",
    "img_resized.show()\n",
    "\n",
    "# save resized image\n",
    "img_resized.save('digit_color_resized.jpeg')"
   ]
  },
  {
   "cell_type": "code",
   "execution_count": 6,
   "metadata": {},
   "outputs": [
    {
     "data": {
      "image/png": "[encoded data removed]",
      "text/plain": [
       "<Figure size 432x288 with 1 Axes>"
      ]
     },
     "metadata": {
      "needs_background": "light"
     },
     "output_type": "display_data"
    }
   ],
   "source": [
    "# load image as NumPy array directly using Matplotlib\n",
    "from matplotlib import image, pyplot\n",
    "imgData2 = image.imread('digit_color.jpeg') # loads image as a 3D NumPy array\n",
    "pyplot.imshow(img)\n",
    "pyplot.show()"
   ]
  }
 ],
 "metadata": {
  "kernelspec": {
   "display_name": "Python 3 (ipykernel)",
   "language": "python",
   "name": "python3"
  },
  "language_info": {
   "codemirror_mode": {
    "name": "ipython",
    "version": 3
   },
   "file_extension": ".py",
   "mimetype": "text/x-python",
   "name": "python",
   "nbconvert_exporter": "python",
   "pygments_lexer": "ipython3",
   "version": "3.9.7"
  }
 },
 "nbformat": 4,
 "nbformat_minor": 2
}
